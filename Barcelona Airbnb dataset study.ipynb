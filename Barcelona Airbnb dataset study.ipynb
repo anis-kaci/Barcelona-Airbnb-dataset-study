{
 "cells": [
  {
   "attachments": {},
   "cell_type": "markdown",
   "id": "68be098c",
   "metadata": {},
   "source": [
    " # Study on the Barcelona Airbnb dataset "
   ]
  },
  {
   "cell_type": "code",
   "execution_count": 19,
   "id": "42b8142b",
   "metadata": {},
   "outputs": [],
   "source": [
    "#imports (pandas, matplotlib, seaborn)\n",
    "import pandas as pd \n",
    "from matplotlib import pyplot as plt\n",
    "import seaborn as sns"
   ]
  },
  {
   "attachments": {},
   "cell_type": "markdown",
   "id": "3bb121d8",
   "metadata": {},
   "source": [
    "### Get the csv data: "
   ]
  },
  {
   "cell_type": "code",
   "execution_count": 20,
   "id": "c118dbe8",
   "metadata": {},
   "outputs": [
    {
     "name": "stderr",
     "output_type": "stream",
     "text": [
      "C:\\Users\\user\\AppData\\Local\\Temp\\ipykernel_11048\\3084663194.py:1: DtypeWarning: Columns (44,62,63) have mixed types. Specify dtype option on import or set low_memory=False.\n",
      "  data = pd.read_csv('barcelona_listings.csv')\n"
     ]
    },
    {
     "data": {
      "text/html": [
       "<div>\n",
       "<style scoped>\n",
       "    .dataframe tbody tr th:only-of-type {\n",
       "        vertical-align: middle;\n",
       "    }\n",
       "\n",
       "    .dataframe tbody tr th {\n",
       "        vertical-align: top;\n",
       "    }\n",
       "\n",
       "    .dataframe thead th {\n",
       "        text-align: right;\n",
       "    }\n",
       "</style>\n",
       "<table border=\"1\" class=\"dataframe\">\n",
       "  <thead>\n",
       "    <tr style=\"text-align: right;\">\n",
       "      <th></th>\n",
       "      <th>index</th>\n",
       "      <th>id</th>\n",
       "      <th>listing_url</th>\n",
       "      <th>scrape_id</th>\n",
       "      <th>last_scraped</th>\n",
       "      <th>name</th>\n",
       "      <th>summary</th>\n",
       "      <th>space</th>\n",
       "      <th>description</th>\n",
       "      <th>experiences_offered</th>\n",
       "      <th>...</th>\n",
       "      <th>instant_bookable</th>\n",
       "      <th>is_business_travel_ready</th>\n",
       "      <th>cancellation_policy</th>\n",
       "      <th>require_guest_profile_picture</th>\n",
       "      <th>require_guest_phone_verification</th>\n",
       "      <th>calculated_host_listings_count</th>\n",
       "      <th>calculated_host_listings_count_entire_homes</th>\n",
       "      <th>calculated_host_listings_count_private_rooms</th>\n",
       "      <th>calculated_host_listings_count_shared_rooms</th>\n",
       "      <th>reviews_per_month</th>\n",
       "    </tr>\n",
       "  </thead>\n",
       "  <tbody>\n",
       "    <tr>\n",
       "      <th>0</th>\n",
       "      <td>0</td>\n",
       "      <td>18666</td>\n",
       "      <td>https://www.airbnb.com/rooms/18666</td>\n",
       "      <td>20190710134514</td>\n",
       "      <td>2019-07-10</td>\n",
       "      <td>Flat with Sunny Terrace</td>\n",
       "      <td>Apartment located near the \"Plaza de las Glori...</td>\n",
       "      <td>Nice apartment situated on the penthouse floor...</td>\n",
       "      <td>Apartment located near the \"Plaza de las Glori...</td>\n",
       "      <td>none</td>\n",
       "      <td>...</td>\n",
       "      <td>f</td>\n",
       "      <td>f</td>\n",
       "      <td>flexible</td>\n",
       "      <td>f</td>\n",
       "      <td>f</td>\n",
       "      <td>31</td>\n",
       "      <td>31</td>\n",
       "      <td>0</td>\n",
       "      <td>0</td>\n",
       "      <td>0.02</td>\n",
       "    </tr>\n",
       "    <tr>\n",
       "      <th>1</th>\n",
       "      <td>1</td>\n",
       "      <td>18674</td>\n",
       "      <td>https://www.airbnb.com/rooms/18674</td>\n",
       "      <td>20190710134514</td>\n",
       "      <td>2019-07-10</td>\n",
       "      <td>Huge flat for 8 people close to Sagrada Familia</td>\n",
       "      <td>110m2 apartment to rent in Barcelona. Located ...</td>\n",
       "      <td>Apartment with 110 m2 located in the 6th floor...</td>\n",
       "      <td>110m2 apartment to rent in Barcelona. Located ...</td>\n",
       "      <td>none</td>\n",
       "      <td>...</td>\n",
       "      <td>t</td>\n",
       "      <td>f</td>\n",
       "      <td>strict_14_with_grace_period</td>\n",
       "      <td>f</td>\n",
       "      <td>f</td>\n",
       "      <td>31</td>\n",
       "      <td>31</td>\n",
       "      <td>0</td>\n",
       "      <td>0</td>\n",
       "      <td>0.20</td>\n",
       "    </tr>\n",
       "    <tr>\n",
       "      <th>2</th>\n",
       "      <td>2</td>\n",
       "      <td>21605</td>\n",
       "      <td>https://www.airbnb.com/rooms/21605</td>\n",
       "      <td>20190710134514</td>\n",
       "      <td>2019-07-10</td>\n",
       "      <td>Nice and sunny duble room</td>\n",
       "      <td>The flat is in Poblenou district, and the room...</td>\n",
       "      <td>L'apartament està al barri de Poblenou, i l'ha...</td>\n",
       "      <td>The flat is in Poblenou district, and the room...</td>\n",
       "      <td>none</td>\n",
       "      <td>...</td>\n",
       "      <td>f</td>\n",
       "      <td>f</td>\n",
       "      <td>moderate</td>\n",
       "      <td>f</td>\n",
       "      <td>f</td>\n",
       "      <td>2</td>\n",
       "      <td>0</td>\n",
       "      <td>2</td>\n",
       "      <td>0</td>\n",
       "      <td>3.08</td>\n",
       "    </tr>\n",
       "    <tr>\n",
       "      <th>3</th>\n",
       "      <td>3</td>\n",
       "      <td>23197</td>\n",
       "      <td>https://www.airbnb.com/rooms/23197</td>\n",
       "      <td>20190710134514</td>\n",
       "      <td>2019-07-10</td>\n",
       "      <td>FORUM DELUXE 5 MINS WALK  CCIB CENTER &amp; SEA!</td>\n",
       "      <td>I do not accept groups of young people under 2...</td>\n",
       "      <td>Elegant spacious apartment suitable for 6. Amp...</td>\n",
       "      <td>I do not accept groups of young people under 2...</td>\n",
       "      <td>none</td>\n",
       "      <td>...</td>\n",
       "      <td>t</td>\n",
       "      <td>f</td>\n",
       "      <td>strict_14_with_grace_period</td>\n",
       "      <td>f</td>\n",
       "      <td>t</td>\n",
       "      <td>2</td>\n",
       "      <td>2</td>\n",
       "      <td>0</td>\n",
       "      <td>0</td>\n",
       "      <td>0.44</td>\n",
       "    </tr>\n",
       "    <tr>\n",
       "      <th>4</th>\n",
       "      <td>4</td>\n",
       "      <td>25786</td>\n",
       "      <td>https://www.airbnb.com/rooms/25786</td>\n",
       "      <td>20190710134514</td>\n",
       "      <td>2019-07-10</td>\n",
       "      <td>NICE ROOM AVAILABLE IN THE HEART OF GRACIA</td>\n",
       "      <td>JUST GO THROUGH THE MANY REVIEWS I GOT THROUGH...</td>\n",
       "      <td>Room available for rent.-  PEDRO PEREZ.  Share...</td>\n",
       "      <td>JUST GO THROUGH THE MANY REVIEWS I GOT THROUGH...</td>\n",
       "      <td>none</td>\n",
       "      <td>...</td>\n",
       "      <td>t</td>\n",
       "      <td>f</td>\n",
       "      <td>strict_14_with_grace_period</td>\n",
       "      <td>t</td>\n",
       "      <td>t</td>\n",
       "      <td>1</td>\n",
       "      <td>0</td>\n",
       "      <td>1</td>\n",
       "      <td>0</td>\n",
       "      <td>2.22</td>\n",
       "    </tr>\n",
       "  </tbody>\n",
       "</table>\n",
       "<p>5 rows × 107 columns</p>\n",
       "</div>"
      ],
      "text/plain": [
       "   index     id                         listing_url       scrape_id  \\\n",
       "0      0  18666  https://www.airbnb.com/rooms/18666  20190710134514   \n",
       "1      1  18674  https://www.airbnb.com/rooms/18674  20190710134514   \n",
       "2      2  21605  https://www.airbnb.com/rooms/21605  20190710134514   \n",
       "3      3  23197  https://www.airbnb.com/rooms/23197  20190710134514   \n",
       "4      4  25786  https://www.airbnb.com/rooms/25786  20190710134514   \n",
       "\n",
       "  last_scraped                                             name  \\\n",
       "0   2019-07-10                          Flat with Sunny Terrace   \n",
       "1   2019-07-10  Huge flat for 8 people close to Sagrada Familia   \n",
       "2   2019-07-10                        Nice and sunny duble room   \n",
       "3   2019-07-10     FORUM DELUXE 5 MINS WALK  CCIB CENTER & SEA!   \n",
       "4   2019-07-10       NICE ROOM AVAILABLE IN THE HEART OF GRACIA   \n",
       "\n",
       "                                             summary  \\\n",
       "0  Apartment located near the \"Plaza de las Glori...   \n",
       "1  110m2 apartment to rent in Barcelona. Located ...   \n",
       "2  The flat is in Poblenou district, and the room...   \n",
       "3  I do not accept groups of young people under 2...   \n",
       "4  JUST GO THROUGH THE MANY REVIEWS I GOT THROUGH...   \n",
       "\n",
       "                                               space  \\\n",
       "0  Nice apartment situated on the penthouse floor...   \n",
       "1  Apartment with 110 m2 located in the 6th floor...   \n",
       "2  L'apartament està al barri de Poblenou, i l'ha...   \n",
       "3  Elegant spacious apartment suitable for 6. Amp...   \n",
       "4  Room available for rent.-  PEDRO PEREZ.  Share...   \n",
       "\n",
       "                                         description experiences_offered  ...  \\\n",
       "0  Apartment located near the \"Plaza de las Glori...                none  ...   \n",
       "1  110m2 apartment to rent in Barcelona. Located ...                none  ...   \n",
       "2  The flat is in Poblenou district, and the room...                none  ...   \n",
       "3  I do not accept groups of young people under 2...                none  ...   \n",
       "4  JUST GO THROUGH THE MANY REVIEWS I GOT THROUGH...                none  ...   \n",
       "\n",
       "  instant_bookable is_business_travel_ready          cancellation_policy  \\\n",
       "0                f                        f                     flexible   \n",
       "1                t                        f  strict_14_with_grace_period   \n",
       "2                f                        f                     moderate   \n",
       "3                t                        f  strict_14_with_grace_period   \n",
       "4                t                        f  strict_14_with_grace_period   \n",
       "\n",
       "  require_guest_profile_picture require_guest_phone_verification  \\\n",
       "0                             f                                f   \n",
       "1                             f                                f   \n",
       "2                             f                                f   \n",
       "3                             f                                t   \n",
       "4                             t                                t   \n",
       "\n",
       "  calculated_host_listings_count  calculated_host_listings_count_entire_homes  \\\n",
       "0                             31                                           31   \n",
       "1                             31                                           31   \n",
       "2                              2                                            0   \n",
       "3                              2                                            2   \n",
       "4                              1                                            0   \n",
       "\n",
       "   calculated_host_listings_count_private_rooms  \\\n",
       "0                                             0   \n",
       "1                                             0   \n",
       "2                                             2   \n",
       "3                                             0   \n",
       "4                                             1   \n",
       "\n",
       "  calculated_host_listings_count_shared_rooms  reviews_per_month  \n",
       "0                                           0               0.02  \n",
       "1                                           0               0.20  \n",
       "2                                           0               3.08  \n",
       "3                                           0               0.44  \n",
       "4                                           0               2.22  \n",
       "\n",
       "[5 rows x 107 columns]"
      ]
     },
     "execution_count": 20,
     "metadata": {},
     "output_type": "execute_result"
    }
   ],
   "source": [
    "data = pd.read_csv('barcelona_listings.csv')\n",
    "data.head()"
   ]
  },
  {
   "attachments": {},
   "cell_type": "markdown",
   "id": "7a1e0e5e",
   "metadata": {},
   "source": [
    "#### Get only the columns we need (select a subset of the dataset )\n"
   ]
  },
  {
   "cell_type": "code",
   "execution_count": 21,
   "id": "91cf4df9",
   "metadata": {},
   "outputs": [
    {
     "data": {
      "text/html": [
       "<div>\n",
       "<style scoped>\n",
       "    .dataframe tbody tr th:only-of-type {\n",
       "        vertical-align: middle;\n",
       "    }\n",
       "\n",
       "    .dataframe tbody tr th {\n",
       "        vertical-align: top;\n",
       "    }\n",
       "\n",
       "    .dataframe thead th {\n",
       "        text-align: right;\n",
       "    }\n",
       "</style>\n",
       "<table border=\"1\" class=\"dataframe\">\n",
       "  <thead>\n",
       "    <tr style=\"text-align: right;\">\n",
       "      <th></th>\n",
       "      <th>id</th>\n",
       "      <th>listing_url</th>\n",
       "      <th>name</th>\n",
       "      <th>summary</th>\n",
       "      <th>space</th>\n",
       "      <th>description</th>\n",
       "      <th>city</th>\n",
       "      <th>latitude</th>\n",
       "      <th>longitude</th>\n",
       "      <th>room_type</th>\n",
       "      <th>price</th>\n",
       "      <th>weekly_price</th>\n",
       "      <th>number_of_reviews</th>\n",
       "      <th>reviews_per_month</th>\n",
       "    </tr>\n",
       "  </thead>\n",
       "  <tbody>\n",
       "    <tr>\n",
       "      <th>0</th>\n",
       "      <td>18666</td>\n",
       "      <td>https://www.airbnb.com/rooms/18666</td>\n",
       "      <td>Flat with Sunny Terrace</td>\n",
       "      <td>Apartment located near the \"Plaza de las Glori...</td>\n",
       "      <td>Nice apartment situated on the penthouse floor...</td>\n",
       "      <td>Apartment located near the \"Plaza de las Glori...</td>\n",
       "      <td>Barcelona</td>\n",
       "      <td>41.40889</td>\n",
       "      <td>2.18555</td>\n",
       "      <td>Entire home/apt</td>\n",
       "      <td>$130.00</td>\n",
       "      <td>NaN</td>\n",
       "      <td>1</td>\n",
       "      <td>0.02</td>\n",
       "    </tr>\n",
       "    <tr>\n",
       "      <th>1</th>\n",
       "      <td>18674</td>\n",
       "      <td>https://www.airbnb.com/rooms/18674</td>\n",
       "      <td>Huge flat for 8 people close to Sagrada Familia</td>\n",
       "      <td>110m2 apartment to rent in Barcelona. Located ...</td>\n",
       "      <td>Apartment with 110 m2 located in the 6th floor...</td>\n",
       "      <td>110m2 apartment to rent in Barcelona. Located ...</td>\n",
       "      <td>Barcelona</td>\n",
       "      <td>41.40420</td>\n",
       "      <td>2.17306</td>\n",
       "      <td>Entire home/apt</td>\n",
       "      <td>$60.00</td>\n",
       "      <td>NaN</td>\n",
       "      <td>15</td>\n",
       "      <td>0.20</td>\n",
       "    </tr>\n",
       "    <tr>\n",
       "      <th>2</th>\n",
       "      <td>21605</td>\n",
       "      <td>https://www.airbnb.com/rooms/21605</td>\n",
       "      <td>Nice and sunny duble room</td>\n",
       "      <td>The flat is in Poblenou district, and the room...</td>\n",
       "      <td>L'apartament està al barri de Poblenou, i l'ha...</td>\n",
       "      <td>The flat is in Poblenou district, and the room...</td>\n",
       "      <td>Barcelona</td>\n",
       "      <td>41.40560</td>\n",
       "      <td>2.19821</td>\n",
       "      <td>Private room</td>\n",
       "      <td>$33.00</td>\n",
       "      <td>NaN</td>\n",
       "      <td>119</td>\n",
       "      <td>3.08</td>\n",
       "    </tr>\n",
       "    <tr>\n",
       "      <th>3</th>\n",
       "      <td>23197</td>\n",
       "      <td>https://www.airbnb.com/rooms/23197</td>\n",
       "      <td>FORUM DELUXE 5 MINS WALK  CCIB CENTER &amp; SEA!</td>\n",
       "      <td>I do not accept groups of young people under 2...</td>\n",
       "      <td>Elegant spacious apartment suitable for 6. Amp...</td>\n",
       "      <td>I do not accept groups of young people under 2...</td>\n",
       "      <td>Sant Adria de Besos</td>\n",
       "      <td>41.41203</td>\n",
       "      <td>2.22114</td>\n",
       "      <td>Entire home/apt</td>\n",
       "      <td>$210.00</td>\n",
       "      <td>NaN</td>\n",
       "      <td>45</td>\n",
       "      <td>0.44</td>\n",
       "    </tr>\n",
       "    <tr>\n",
       "      <th>4</th>\n",
       "      <td>25786</td>\n",
       "      <td>https://www.airbnb.com/rooms/25786</td>\n",
       "      <td>NICE ROOM AVAILABLE IN THE HEART OF GRACIA</td>\n",
       "      <td>JUST GO THROUGH THE MANY REVIEWS I GOT THROUGH...</td>\n",
       "      <td>Room available for rent.-  PEDRO PEREZ.  Share...</td>\n",
       "      <td>JUST GO THROUGH THE MANY REVIEWS I GOT THROUGH...</td>\n",
       "      <td>Barcelona</td>\n",
       "      <td>41.40145</td>\n",
       "      <td>2.15645</td>\n",
       "      <td>Private room</td>\n",
       "      <td>$45.00</td>\n",
       "      <td>NaN</td>\n",
       "      <td>241</td>\n",
       "      <td>2.22</td>\n",
       "    </tr>\n",
       "  </tbody>\n",
       "</table>\n",
       "</div>"
      ],
      "text/plain": [
       "      id                         listing_url  \\\n",
       "0  18666  https://www.airbnb.com/rooms/18666   \n",
       "1  18674  https://www.airbnb.com/rooms/18674   \n",
       "2  21605  https://www.airbnb.com/rooms/21605   \n",
       "3  23197  https://www.airbnb.com/rooms/23197   \n",
       "4  25786  https://www.airbnb.com/rooms/25786   \n",
       "\n",
       "                                              name  \\\n",
       "0                          Flat with Sunny Terrace   \n",
       "1  Huge flat for 8 people close to Sagrada Familia   \n",
       "2                        Nice and sunny duble room   \n",
       "3     FORUM DELUXE 5 MINS WALK  CCIB CENTER & SEA!   \n",
       "4       NICE ROOM AVAILABLE IN THE HEART OF GRACIA   \n",
       "\n",
       "                                             summary  \\\n",
       "0  Apartment located near the \"Plaza de las Glori...   \n",
       "1  110m2 apartment to rent in Barcelona. Located ...   \n",
       "2  The flat is in Poblenou district, and the room...   \n",
       "3  I do not accept groups of young people under 2...   \n",
       "4  JUST GO THROUGH THE MANY REVIEWS I GOT THROUGH...   \n",
       "\n",
       "                                               space  \\\n",
       "0  Nice apartment situated on the penthouse floor...   \n",
       "1  Apartment with 110 m2 located in the 6th floor...   \n",
       "2  L'apartament està al barri de Poblenou, i l'ha...   \n",
       "3  Elegant spacious apartment suitable for 6. Amp...   \n",
       "4  Room available for rent.-  PEDRO PEREZ.  Share...   \n",
       "\n",
       "                                         description                 city  \\\n",
       "0  Apartment located near the \"Plaza de las Glori...            Barcelona   \n",
       "1  110m2 apartment to rent in Barcelona. Located ...            Barcelona   \n",
       "2  The flat is in Poblenou district, and the room...            Barcelona   \n",
       "3  I do not accept groups of young people under 2...  Sant Adria de Besos   \n",
       "4  JUST GO THROUGH THE MANY REVIEWS I GOT THROUGH...            Barcelona   \n",
       "\n",
       "   latitude  longitude        room_type    price weekly_price  \\\n",
       "0  41.40889    2.18555  Entire home/apt  $130.00          NaN   \n",
       "1  41.40420    2.17306  Entire home/apt   $60.00          NaN   \n",
       "2  41.40560    2.19821     Private room   $33.00          NaN   \n",
       "3  41.41203    2.22114  Entire home/apt  $210.00          NaN   \n",
       "4  41.40145    2.15645     Private room   $45.00          NaN   \n",
       "\n",
       "   number_of_reviews  reviews_per_month  \n",
       "0                  1               0.02  \n",
       "1                 15               0.20  \n",
       "2                119               3.08  \n",
       "3                 45               0.44  \n",
       "4                241               2.22  "
      ]
     },
     "execution_count": 21,
     "metadata": {},
     "output_type": "execute_result"
    }
   ],
   "source": [
    "data_bcn = data[[\"id\", \"listing_url\", \"name\", \"summary\", \"space\", \"description\", \"city\", \"latitude\", \"longitude\", \"room_type\", \"price\", \"weekly_price\", \"number_of_reviews\", \"reviews_per_month\"]]\n",
    "data_bcn.head()"
   ]
  },
  {
   "cell_type": "code",
   "execution_count": 22,
   "id": "bf88ff30",
   "metadata": {},
   "outputs": [
    {
     "data": {
      "text/plain": [
       "(19833, 14)"
      ]
     },
     "execution_count": 22,
     "metadata": {},
     "output_type": "execute_result"
    }
   ],
   "source": [
    "# get the data shape (rows and columns)\n",
    "data_bcn.shape"
   ]
  },
  {
   "cell_type": "code",
   "execution_count": 23,
   "id": "0a757696",
   "metadata": {},
   "outputs": [
    {
     "data": {
      "text/plain": [
       "id                     int64\n",
       "listing_url           object\n",
       "name                  object\n",
       "summary               object\n",
       "space                 object\n",
       "description           object\n",
       "city                  object\n",
       "latitude             float64\n",
       "longitude            float64\n",
       "room_type             object\n",
       "price                 object\n",
       "weekly_price          object\n",
       "number_of_reviews      int64\n",
       "reviews_per_month    float64\n",
       "dtype: object"
      ]
     },
     "execution_count": 23,
     "metadata": {},
     "output_type": "execute_result"
    }
   ],
   "source": [
    "#data types\n",
    "data_bcn.dtypes"
   ]
  },
  {
   "attachments": {},
   "cell_type": "markdown",
   "id": "460d6f10",
   "metadata": {},
   "source": [
    "## Data cleaning :"
   ]
  },
  {
   "attachments": {},
   "cell_type": "markdown",
   "id": "0a26272d",
   "metadata": {},
   "source": [
    "#### spot the missing values "
   ]
  },
  {
   "cell_type": "code",
   "execution_count": 24,
   "id": "d79fd497",
   "metadata": {},
   "outputs": [
    {
     "data": {
      "text/plain": [
       "id                       0\n",
       "listing_url              0\n",
       "name                    17\n",
       "summary               1010\n",
       "space                 5234\n",
       "description            361\n",
       "city                     4\n",
       "latitude                 0\n",
       "longitude                0\n",
       "room_type                0\n",
       "price                    0\n",
       "weekly_price         18526\n",
       "number_of_reviews        0\n",
       "reviews_per_month     4618\n",
       "dtype: int64"
      ]
     },
     "execution_count": 24,
     "metadata": {},
     "output_type": "execute_result"
    }
   ],
   "source": [
    "\n",
    "data_bcn.isna().sum()"
   ]
  },
  {
   "attachments": {},
   "cell_type": "markdown",
   "id": "9955f6d6",
   "metadata": {},
   "source": [
    "#### fill the missing values with defaults "
   ]
  },
  {
   "cell_type": "code",
   "execution_count": 25,
   "id": "28d98168",
   "metadata": {},
   "outputs": [
    {
     "name": "stderr",
     "output_type": "stream",
     "text": [
      "C:\\Users\\user\\AppData\\Local\\Temp\\ipykernel_11048\\3549775755.py:2: SettingWithCopyWarning: \n",
      "A value is trying to be set on a copy of a slice from a DataFrame.\n",
      "Try using .loc[row_indexer,col_indexer] = value instead\n",
      "\n",
      "See the caveats in the documentation: https://pandas.pydata.org/pandas-docs/stable/user_guide/indexing.html#returning-a-view-versus-a-copy\n",
      "  data_bcn.fillna({'reviews_per_month': 0}, inplace=True)\n",
      "C:\\Users\\user\\AppData\\Local\\Temp\\ipykernel_11048\\3549775755.py:4: SettingWithCopyWarning: \n",
      "A value is trying to be set on a copy of a slice from a DataFrame.\n",
      "Try using .loc[row_indexer,col_indexer] = value instead\n",
      "\n",
      "See the caveats in the documentation: https://pandas.pydata.org/pandas-docs/stable/user_guide/indexing.html#returning-a-view-versus-a-copy\n",
      "  data_bcn.fillna({'name': \"airbnb in barcelona\"}, inplace=True)\n",
      "C:\\Users\\user\\AppData\\Local\\Temp\\ipykernel_11048\\3549775755.py:7: SettingWithCopyWarning: \n",
      "A value is trying to be set on a copy of a slice from a DataFrame.\n",
      "Try using .loc[row_indexer,col_indexer] = value instead\n",
      "\n",
      "See the caveats in the documentation: https://pandas.pydata.org/pandas-docs/stable/user_guide/indexing.html#returning-a-view-versus-a-copy\n",
      "  data_bcn.fillna({'summary' : \"\"}, inplace=True)\n",
      "C:\\Users\\user\\AppData\\Local\\Temp\\ipykernel_11048\\3549775755.py:9: SettingWithCopyWarning: \n",
      "A value is trying to be set on a copy of a slice from a DataFrame.\n",
      "Try using .loc[row_indexer,col_indexer] = value instead\n",
      "\n",
      "See the caveats in the documentation: https://pandas.pydata.org/pandas-docs/stable/user_guide/indexing.html#returning-a-view-versus-a-copy\n",
      "  data_bcn.fillna({'space' : \"\"}, inplace= True)\n",
      "C:\\Users\\user\\AppData\\Local\\Temp\\ipykernel_11048\\3549775755.py:11: SettingWithCopyWarning: \n",
      "A value is trying to be set on a copy of a slice from a DataFrame.\n",
      "Try using .loc[row_indexer,col_indexer] = value instead\n",
      "\n",
      "See the caveats in the documentation: https://pandas.pydata.org/pandas-docs/stable/user_guide/indexing.html#returning-a-view-versus-a-copy\n",
      "  data_bcn.fillna({'description' : \"\"}, inplace = True)\n",
      "C:\\Users\\user\\AppData\\Local\\Temp\\ipykernel_11048\\3549775755.py:13: SettingWithCopyWarning: \n",
      "A value is trying to be set on a copy of a slice from a DataFrame.\n",
      "Try using .loc[row_indexer,col_indexer] = value instead\n",
      "\n",
      "See the caveats in the documentation: https://pandas.pydata.org/pandas-docs/stable/user_guide/indexing.html#returning-a-view-versus-a-copy\n",
      "  data_bcn.fillna({'city' : \"BCN\"}, inplace= True)\n"
     ]
    }
   ],
   "source": [
    "\n",
    " #no reviews per month --> 0\n",
    "data_bcn.fillna({'reviews_per_month': 0}, inplace=True)\n",
    " #no name -> 'airbnb in barcelona'\n",
    "data_bcn.fillna({'name': \"airbnb in barcelona\"}, inplace=True)\n",
    "\n",
    "#summary , space and descriptions will be filled with empty strings \n",
    "data_bcn.fillna({'summary' : \"\"}, inplace=True)\n",
    "\n",
    "data_bcn.fillna({'space' : \"\"}, inplace= True)\n",
    "\n",
    "data_bcn.fillna({'description' : \"\"}, inplace = True)\n",
    "\n",
    "data_bcn.fillna({'city' : \"BCN\"}, inplace= True)\n",
    "\n",
    "\n",
    "\n"
   ]
  },
  {
   "cell_type": "code",
   "execution_count": 26,
   "id": "9a731ef3",
   "metadata": {},
   "outputs": [
    {
     "data": {
      "text/plain": [
       "id                       0\n",
       "listing_url              0\n",
       "name                     0\n",
       "summary                  0\n",
       "space                    0\n",
       "description              0\n",
       "city                     0\n",
       "latitude                 0\n",
       "longitude                0\n",
       "room_type                0\n",
       "price                    0\n",
       "weekly_price         18526\n",
       "number_of_reviews        0\n",
       "reviews_per_month        0\n",
       "dtype: int64"
      ]
     },
     "execution_count": 26,
     "metadata": {},
     "output_type": "execute_result"
    }
   ],
   "source": [
    "data_bcn.isna().sum()\n"
   ]
  },
  {
   "cell_type": "code",
   "execution_count": 27,
   "id": "55da9c49",
   "metadata": {},
   "outputs": [],
   "source": [
    "#we wont need weekly_price and its filled with missing values much so we will drop the column\n",
    "del data_bcn[\"weekly_price\"]"
   ]
  },
  {
   "cell_type": "code",
   "execution_count": 28,
   "id": "208fdf39",
   "metadata": {},
   "outputs": [
    {
     "data": {
      "text/plain": [
       "id                   0\n",
       "listing_url          0\n",
       "name                 0\n",
       "summary              0\n",
       "space                0\n",
       "description          0\n",
       "city                 0\n",
       "latitude             0\n",
       "longitude            0\n",
       "room_type            0\n",
       "price                0\n",
       "number_of_reviews    0\n",
       "reviews_per_month    0\n",
       "dtype: int64"
      ]
     },
     "execution_count": 28,
     "metadata": {},
     "output_type": "execute_result"
    }
   ],
   "source": [
    "data_bcn.isna().sum()"
   ]
  },
  {
   "cell_type": "markdown",
   "id": "4f4b4e33",
   "metadata": {},
   "source": [
    "#### we got rid of the missing values "
   ]
  },
  {
   "cell_type": "code",
   "execution_count": 29,
   "id": "99f75f6d",
   "metadata": {},
   "outputs": [
    {
     "data": {
      "text/plain": [
       "0    $130.00\n",
       "1     $60.00\n",
       "2     $33.00\n",
       "3    $210.00\n",
       "4     $45.00\n",
       "Name: price, dtype: object"
      ]
     },
     "execution_count": 29,
     "metadata": {},
     "output_type": "execute_result"
    }
   ],
   "source": [
    "data_bcn.price.head()"
   ]
  },
  {
   "attachments": {},
   "cell_type": "markdown",
   "id": "3d4608f0",
   "metadata": {},
   "source": [
    "#### we notice that the price is a string object starting with a $\n",
    "#### lets parse it to float in order to use arithmetic comparison"
   ]
  },
  {
   "cell_type": "code",
   "execution_count": 54,
   "id": "bfe29bbc",
   "metadata": {},
   "outputs": [
    {
     "name": "stdout",
     "output_type": "stream",
     "text": [
      "['60.00', '33.00', '210.00', '45.00', '42.00', '53.00', '75.00', '85.00', '30.00']\n"
     ]
    }
   ],
   "source": [
    "prices = data_bcn[\"price\"]\n",
    "\n",
    "pricesTab = []\n",
    "for price in prices:\n",
    "    pricesTab.append(price[1:])\n",
    "\n",
    "\n",
    "print(pricesTab[1:10])\n",
    "\n",
    "\n",
    "\n"
   ]
  },
  {
   "cell_type": "code",
   "execution_count": 58,
   "id": "667aff73",
   "metadata": {},
   "outputs": [
    {
     "name": "stdout",
     "output_type": "stream",
     "text": [
      "1,000.00\n"
     ]
    }
   ],
   "source": [
    "for price in pricesTab :\n",
    "    if(len(price) > 6):\n",
    "        print(price)\n",
    "        break\n",
    " \n",
    "    "
   ]
  },
  {
   "attachments": {},
   "cell_type": "markdown",
   "id": "c4f79dd6",
   "metadata": {},
   "source": [
    "#### solve the thousands problem (remove the comma )"
   ]
  },
  {
   "cell_type": "code",
   "execution_count": 32,
   "id": "b09f10c6",
   "metadata": {},
   "outputs": [],
   "source": [
    "for price in pricesTab :\n",
    "    if(len(price) > 6):\n",
    "        pricesTab[pricesTab.index(price)]= price.split(',')[0] + '000.00'\n",
    "        \n",
    "\n",
    "\n"
   ]
  },
  {
   "cell_type": "code",
   "execution_count": 33,
   "id": "5009ece1",
   "metadata": {},
   "outputs": [],
   "source": [
    "#change pricetab values to floats \n",
    "for price in pricesTab:\n",
    "    #change to floats \n",
    "    pricesTab[pricesTab.index(price)] = float(price)"
   ]
  },
  {
   "cell_type": "code",
   "execution_count": 34,
   "id": "53cb5ec9",
   "metadata": {},
   "outputs": [
    {
     "data": {
      "text/plain": [
       "[60.0, 33.0, 210.0, 45.0, 42.0, 53.0, 75.0, 85.0, 30.0]"
      ]
     },
     "execution_count": 34,
     "metadata": {},
     "output_type": "execute_result"
    }
   ],
   "source": [
    "pricesTab[1:10]"
   ]
  },
  {
   "attachments": {},
   "cell_type": "markdown",
   "id": "9733b7b0",
   "metadata": {},
   "source": [
    "#### turn pricestab into a dataframe "
   ]
  },
  {
   "cell_type": "code",
   "execution_count": 35,
   "id": "90cc11c8",
   "metadata": {},
   "outputs": [],
   "source": [
    "cleanPricesData = {\n",
    "    \"prices\" : pricesTab\n",
    "}\n",
    "\n",
    "cleanPrices = pd.DataFrame(cleanPricesData)\n"
   ]
  },
  {
   "cell_type": "code",
   "execution_count": 36,
   "id": "82f005b1",
   "metadata": {},
   "outputs": [
    {
     "data": {
      "text/html": [
       "<div>\n",
       "<style scoped>\n",
       "    .dataframe tbody tr th:only-of-type {\n",
       "        vertical-align: middle;\n",
       "    }\n",
       "\n",
       "    .dataframe tbody tr th {\n",
       "        vertical-align: top;\n",
       "    }\n",
       "\n",
       "    .dataframe thead th {\n",
       "        text-align: right;\n",
       "    }\n",
       "</style>\n",
       "<table border=\"1\" class=\"dataframe\">\n",
       "  <thead>\n",
       "    <tr style=\"text-align: right;\">\n",
       "      <th></th>\n",
       "      <th>prices</th>\n",
       "    </tr>\n",
       "  </thead>\n",
       "  <tbody>\n",
       "    <tr>\n",
       "      <th>0</th>\n",
       "      <td>130.0</td>\n",
       "    </tr>\n",
       "    <tr>\n",
       "      <th>1</th>\n",
       "      <td>60.0</td>\n",
       "    </tr>\n",
       "    <tr>\n",
       "      <th>2</th>\n",
       "      <td>33.0</td>\n",
       "    </tr>\n",
       "    <tr>\n",
       "      <th>3</th>\n",
       "      <td>210.0</td>\n",
       "    </tr>\n",
       "    <tr>\n",
       "      <th>4</th>\n",
       "      <td>45.0</td>\n",
       "    </tr>\n",
       "  </tbody>\n",
       "</table>\n",
       "</div>"
      ],
      "text/plain": [
       "   prices\n",
       "0   130.0\n",
       "1    60.0\n",
       "2    33.0\n",
       "3   210.0\n",
       "4    45.0"
      ]
     },
     "execution_count": 36,
     "metadata": {},
     "output_type": "execute_result"
    }
   ],
   "source": [
    "cleanPrices.head()"
   ]
  },
  {
   "cell_type": "code",
   "execution_count": 37,
   "id": "7581940d",
   "metadata": {},
   "outputs": [
    {
     "data": {
      "text/html": [
       "<div>\n",
       "<style scoped>\n",
       "    .dataframe tbody tr th:only-of-type {\n",
       "        vertical-align: middle;\n",
       "    }\n",
       "\n",
       "    .dataframe tbody tr th {\n",
       "        vertical-align: top;\n",
       "    }\n",
       "\n",
       "    .dataframe thead th {\n",
       "        text-align: right;\n",
       "    }\n",
       "</style>\n",
       "<table border=\"1\" class=\"dataframe\">\n",
       "  <thead>\n",
       "    <tr style=\"text-align: right;\">\n",
       "      <th></th>\n",
       "      <th>id</th>\n",
       "      <th>listing_url</th>\n",
       "      <th>name</th>\n",
       "      <th>summary</th>\n",
       "      <th>space</th>\n",
       "      <th>description</th>\n",
       "      <th>city</th>\n",
       "      <th>latitude</th>\n",
       "      <th>longitude</th>\n",
       "      <th>room_type</th>\n",
       "      <th>price</th>\n",
       "      <th>number_of_reviews</th>\n",
       "      <th>reviews_per_month</th>\n",
       "    </tr>\n",
       "  </thead>\n",
       "  <tbody>\n",
       "    <tr>\n",
       "      <th>0</th>\n",
       "      <td>18666</td>\n",
       "      <td>https://www.airbnb.com/rooms/18666</td>\n",
       "      <td>Flat with Sunny Terrace</td>\n",
       "      <td>Apartment located near the \"Plaza de las Glori...</td>\n",
       "      <td>Nice apartment situated on the penthouse floor...</td>\n",
       "      <td>Apartment located near the \"Plaza de las Glori...</td>\n",
       "      <td>Barcelona</td>\n",
       "      <td>41.40889</td>\n",
       "      <td>2.18555</td>\n",
       "      <td>Entire home/apt</td>\n",
       "      <td>$130.00</td>\n",
       "      <td>1</td>\n",
       "      <td>0.02</td>\n",
       "    </tr>\n",
       "    <tr>\n",
       "      <th>1</th>\n",
       "      <td>18674</td>\n",
       "      <td>https://www.airbnb.com/rooms/18674</td>\n",
       "      <td>Huge flat for 8 people close to Sagrada Familia</td>\n",
       "      <td>110m2 apartment to rent in Barcelona. Located ...</td>\n",
       "      <td>Apartment with 110 m2 located in the 6th floor...</td>\n",
       "      <td>110m2 apartment to rent in Barcelona. Located ...</td>\n",
       "      <td>Barcelona</td>\n",
       "      <td>41.40420</td>\n",
       "      <td>2.17306</td>\n",
       "      <td>Entire home/apt</td>\n",
       "      <td>$60.00</td>\n",
       "      <td>15</td>\n",
       "      <td>0.20</td>\n",
       "    </tr>\n",
       "    <tr>\n",
       "      <th>2</th>\n",
       "      <td>21605</td>\n",
       "      <td>https://www.airbnb.com/rooms/21605</td>\n",
       "      <td>Nice and sunny duble room</td>\n",
       "      <td>The flat is in Poblenou district, and the room...</td>\n",
       "      <td>L'apartament està al barri de Poblenou, i l'ha...</td>\n",
       "      <td>The flat is in Poblenou district, and the room...</td>\n",
       "      <td>Barcelona</td>\n",
       "      <td>41.40560</td>\n",
       "      <td>2.19821</td>\n",
       "      <td>Private room</td>\n",
       "      <td>$33.00</td>\n",
       "      <td>119</td>\n",
       "      <td>3.08</td>\n",
       "    </tr>\n",
       "    <tr>\n",
       "      <th>3</th>\n",
       "      <td>23197</td>\n",
       "      <td>https://www.airbnb.com/rooms/23197</td>\n",
       "      <td>FORUM DELUXE 5 MINS WALK  CCIB CENTER &amp; SEA!</td>\n",
       "      <td>I do not accept groups of young people under 2...</td>\n",
       "      <td>Elegant spacious apartment suitable for 6. Amp...</td>\n",
       "      <td>I do not accept groups of young people under 2...</td>\n",
       "      <td>Sant Adria de Besos</td>\n",
       "      <td>41.41203</td>\n",
       "      <td>2.22114</td>\n",
       "      <td>Entire home/apt</td>\n",
       "      <td>$210.00</td>\n",
       "      <td>45</td>\n",
       "      <td>0.44</td>\n",
       "    </tr>\n",
       "    <tr>\n",
       "      <th>4</th>\n",
       "      <td>25786</td>\n",
       "      <td>https://www.airbnb.com/rooms/25786</td>\n",
       "      <td>NICE ROOM AVAILABLE IN THE HEART OF GRACIA</td>\n",
       "      <td>JUST GO THROUGH THE MANY REVIEWS I GOT THROUGH...</td>\n",
       "      <td>Room available for rent.-  PEDRO PEREZ.  Share...</td>\n",
       "      <td>JUST GO THROUGH THE MANY REVIEWS I GOT THROUGH...</td>\n",
       "      <td>Barcelona</td>\n",
       "      <td>41.40145</td>\n",
       "      <td>2.15645</td>\n",
       "      <td>Private room</td>\n",
       "      <td>$45.00</td>\n",
       "      <td>241</td>\n",
       "      <td>2.22</td>\n",
       "    </tr>\n",
       "  </tbody>\n",
       "</table>\n",
       "</div>"
      ],
      "text/plain": [
       "      id                         listing_url  \\\n",
       "0  18666  https://www.airbnb.com/rooms/18666   \n",
       "1  18674  https://www.airbnb.com/rooms/18674   \n",
       "2  21605  https://www.airbnb.com/rooms/21605   \n",
       "3  23197  https://www.airbnb.com/rooms/23197   \n",
       "4  25786  https://www.airbnb.com/rooms/25786   \n",
       "\n",
       "                                              name  \\\n",
       "0                          Flat with Sunny Terrace   \n",
       "1  Huge flat for 8 people close to Sagrada Familia   \n",
       "2                        Nice and sunny duble room   \n",
       "3     FORUM DELUXE 5 MINS WALK  CCIB CENTER & SEA!   \n",
       "4       NICE ROOM AVAILABLE IN THE HEART OF GRACIA   \n",
       "\n",
       "                                             summary  \\\n",
       "0  Apartment located near the \"Plaza de las Glori...   \n",
       "1  110m2 apartment to rent in Barcelona. Located ...   \n",
       "2  The flat is in Poblenou district, and the room...   \n",
       "3  I do not accept groups of young people under 2...   \n",
       "4  JUST GO THROUGH THE MANY REVIEWS I GOT THROUGH...   \n",
       "\n",
       "                                               space  \\\n",
       "0  Nice apartment situated on the penthouse floor...   \n",
       "1  Apartment with 110 m2 located in the 6th floor...   \n",
       "2  L'apartament està al barri de Poblenou, i l'ha...   \n",
       "3  Elegant spacious apartment suitable for 6. Amp...   \n",
       "4  Room available for rent.-  PEDRO PEREZ.  Share...   \n",
       "\n",
       "                                         description                 city  \\\n",
       "0  Apartment located near the \"Plaza de las Glori...            Barcelona   \n",
       "1  110m2 apartment to rent in Barcelona. Located ...            Barcelona   \n",
       "2  The flat is in Poblenou district, and the room...            Barcelona   \n",
       "3  I do not accept groups of young people under 2...  Sant Adria de Besos   \n",
       "4  JUST GO THROUGH THE MANY REVIEWS I GOT THROUGH...            Barcelona   \n",
       "\n",
       "   latitude  longitude        room_type    price  number_of_reviews  \\\n",
       "0  41.40889    2.18555  Entire home/apt  $130.00                  1   \n",
       "1  41.40420    2.17306  Entire home/apt   $60.00                 15   \n",
       "2  41.40560    2.19821     Private room   $33.00                119   \n",
       "3  41.41203    2.22114  Entire home/apt  $210.00                 45   \n",
       "4  41.40145    2.15645     Private room   $45.00                241   \n",
       "\n",
       "   reviews_per_month  \n",
       "0               0.02  \n",
       "1               0.20  \n",
       "2               3.08  \n",
       "3               0.44  \n",
       "4               2.22  "
      ]
     },
     "metadata": {},
     "output_type": "display_data"
    },
    {
     "data": {
      "text/html": [
       "<div>\n",
       "<style scoped>\n",
       "    .dataframe tbody tr th:only-of-type {\n",
       "        vertical-align: middle;\n",
       "    }\n",
       "\n",
       "    .dataframe tbody tr th {\n",
       "        vertical-align: top;\n",
       "    }\n",
       "\n",
       "    .dataframe thead th {\n",
       "        text-align: right;\n",
       "    }\n",
       "</style>\n",
       "<table border=\"1\" class=\"dataframe\">\n",
       "  <thead>\n",
       "    <tr style=\"text-align: right;\">\n",
       "      <th></th>\n",
       "      <th>prices</th>\n",
       "    </tr>\n",
       "  </thead>\n",
       "  <tbody>\n",
       "    <tr>\n",
       "      <th>0</th>\n",
       "      <td>130.0</td>\n",
       "    </tr>\n",
       "    <tr>\n",
       "      <th>1</th>\n",
       "      <td>60.0</td>\n",
       "    </tr>\n",
       "    <tr>\n",
       "      <th>2</th>\n",
       "      <td>33.0</td>\n",
       "    </tr>\n",
       "    <tr>\n",
       "      <th>3</th>\n",
       "      <td>210.0</td>\n",
       "    </tr>\n",
       "    <tr>\n",
       "      <th>4</th>\n",
       "      <td>45.0</td>\n",
       "    </tr>\n",
       "    <tr>\n",
       "      <th>...</th>\n",
       "      <td>...</td>\n",
       "    </tr>\n",
       "    <tr>\n",
       "      <th>19828</th>\n",
       "      <td>16.0</td>\n",
       "    </tr>\n",
       "    <tr>\n",
       "      <th>19829</th>\n",
       "      <td>30.0</td>\n",
       "    </tr>\n",
       "    <tr>\n",
       "      <th>19830</th>\n",
       "      <td>55.0</td>\n",
       "    </tr>\n",
       "    <tr>\n",
       "      <th>19831</th>\n",
       "      <td>125.0</td>\n",
       "    </tr>\n",
       "    <tr>\n",
       "      <th>19832</th>\n",
       "      <td>95.0</td>\n",
       "    </tr>\n",
       "  </tbody>\n",
       "</table>\n",
       "<p>19833 rows × 1 columns</p>\n",
       "</div>"
      ],
      "text/plain": [
       "       prices\n",
       "0       130.0\n",
       "1        60.0\n",
       "2        33.0\n",
       "3       210.0\n",
       "4        45.0\n",
       "...       ...\n",
       "19828    16.0\n",
       "19829    30.0\n",
       "19830    55.0\n",
       "19831   125.0\n",
       "19832    95.0\n",
       "\n",
       "[19833 rows x 1 columns]"
      ]
     },
     "metadata": {},
     "output_type": "display_data"
    }
   ],
   "source": [
    "#change the prices column in our initial dataset \n",
    "\n",
    "#display the 2 dfs \n",
    "display(data_bcn.head(), cleanPrices)"
   ]
  },
  {
   "attachments": {},
   "cell_type": "markdown",
   "id": "9eb2726f",
   "metadata": {},
   "source": [
    "#### new dataframe after prices cleaned "
   ]
  },
  {
   "cell_type": "code",
   "execution_count": 38,
   "id": "db6cd145",
   "metadata": {},
   "outputs": [],
   "source": [
    "\n",
    "data_bcn_bis = pd.concat([data_bcn, cleanPrices], axis=1)\n"
   ]
  },
  {
   "cell_type": "code",
   "execution_count": 39,
   "id": "f7e16426",
   "metadata": {},
   "outputs": [
    {
     "data": {
      "text/html": [
       "<div>\n",
       "<style scoped>\n",
       "    .dataframe tbody tr th:only-of-type {\n",
       "        vertical-align: middle;\n",
       "    }\n",
       "\n",
       "    .dataframe tbody tr th {\n",
       "        vertical-align: top;\n",
       "    }\n",
       "\n",
       "    .dataframe thead th {\n",
       "        text-align: right;\n",
       "    }\n",
       "</style>\n",
       "<table border=\"1\" class=\"dataframe\">\n",
       "  <thead>\n",
       "    <tr style=\"text-align: right;\">\n",
       "      <th></th>\n",
       "      <th>id</th>\n",
       "      <th>listing_url</th>\n",
       "      <th>name</th>\n",
       "      <th>summary</th>\n",
       "      <th>space</th>\n",
       "      <th>description</th>\n",
       "      <th>city</th>\n",
       "      <th>latitude</th>\n",
       "      <th>longitude</th>\n",
       "      <th>room_type</th>\n",
       "      <th>price</th>\n",
       "      <th>number_of_reviews</th>\n",
       "      <th>reviews_per_month</th>\n",
       "      <th>prices</th>\n",
       "    </tr>\n",
       "  </thead>\n",
       "  <tbody>\n",
       "    <tr>\n",
       "      <th>0</th>\n",
       "      <td>18666</td>\n",
       "      <td>https://www.airbnb.com/rooms/18666</td>\n",
       "      <td>Flat with Sunny Terrace</td>\n",
       "      <td>Apartment located near the \"Plaza de las Glori...</td>\n",
       "      <td>Nice apartment situated on the penthouse floor...</td>\n",
       "      <td>Apartment located near the \"Plaza de las Glori...</td>\n",
       "      <td>Barcelona</td>\n",
       "      <td>41.40889</td>\n",
       "      <td>2.18555</td>\n",
       "      <td>Entire home/apt</td>\n",
       "      <td>$130.00</td>\n",
       "      <td>1</td>\n",
       "      <td>0.02</td>\n",
       "      <td>130.0</td>\n",
       "    </tr>\n",
       "    <tr>\n",
       "      <th>1</th>\n",
       "      <td>18674</td>\n",
       "      <td>https://www.airbnb.com/rooms/18674</td>\n",
       "      <td>Huge flat for 8 people close to Sagrada Familia</td>\n",
       "      <td>110m2 apartment to rent in Barcelona. Located ...</td>\n",
       "      <td>Apartment with 110 m2 located in the 6th floor...</td>\n",
       "      <td>110m2 apartment to rent in Barcelona. Located ...</td>\n",
       "      <td>Barcelona</td>\n",
       "      <td>41.40420</td>\n",
       "      <td>2.17306</td>\n",
       "      <td>Entire home/apt</td>\n",
       "      <td>$60.00</td>\n",
       "      <td>15</td>\n",
       "      <td>0.20</td>\n",
       "      <td>60.0</td>\n",
       "    </tr>\n",
       "    <tr>\n",
       "      <th>2</th>\n",
       "      <td>21605</td>\n",
       "      <td>https://www.airbnb.com/rooms/21605</td>\n",
       "      <td>Nice and sunny duble room</td>\n",
       "      <td>The flat is in Poblenou district, and the room...</td>\n",
       "      <td>L'apartament està al barri de Poblenou, i l'ha...</td>\n",
       "      <td>The flat is in Poblenou district, and the room...</td>\n",
       "      <td>Barcelona</td>\n",
       "      <td>41.40560</td>\n",
       "      <td>2.19821</td>\n",
       "      <td>Private room</td>\n",
       "      <td>$33.00</td>\n",
       "      <td>119</td>\n",
       "      <td>3.08</td>\n",
       "      <td>33.0</td>\n",
       "    </tr>\n",
       "    <tr>\n",
       "      <th>3</th>\n",
       "      <td>23197</td>\n",
       "      <td>https://www.airbnb.com/rooms/23197</td>\n",
       "      <td>FORUM DELUXE 5 MINS WALK  CCIB CENTER &amp; SEA!</td>\n",
       "      <td>I do not accept groups of young people under 2...</td>\n",
       "      <td>Elegant spacious apartment suitable for 6. Amp...</td>\n",
       "      <td>I do not accept groups of young people under 2...</td>\n",
       "      <td>Sant Adria de Besos</td>\n",
       "      <td>41.41203</td>\n",
       "      <td>2.22114</td>\n",
       "      <td>Entire home/apt</td>\n",
       "      <td>$210.00</td>\n",
       "      <td>45</td>\n",
       "      <td>0.44</td>\n",
       "      <td>210.0</td>\n",
       "    </tr>\n",
       "    <tr>\n",
       "      <th>4</th>\n",
       "      <td>25786</td>\n",
       "      <td>https://www.airbnb.com/rooms/25786</td>\n",
       "      <td>NICE ROOM AVAILABLE IN THE HEART OF GRACIA</td>\n",
       "      <td>JUST GO THROUGH THE MANY REVIEWS I GOT THROUGH...</td>\n",
       "      <td>Room available for rent.-  PEDRO PEREZ.  Share...</td>\n",
       "      <td>JUST GO THROUGH THE MANY REVIEWS I GOT THROUGH...</td>\n",
       "      <td>Barcelona</td>\n",
       "      <td>41.40145</td>\n",
       "      <td>2.15645</td>\n",
       "      <td>Private room</td>\n",
       "      <td>$45.00</td>\n",
       "      <td>241</td>\n",
       "      <td>2.22</td>\n",
       "      <td>45.0</td>\n",
       "    </tr>\n",
       "  </tbody>\n",
       "</table>\n",
       "</div>"
      ],
      "text/plain": [
       "      id                         listing_url  \\\n",
       "0  18666  https://www.airbnb.com/rooms/18666   \n",
       "1  18674  https://www.airbnb.com/rooms/18674   \n",
       "2  21605  https://www.airbnb.com/rooms/21605   \n",
       "3  23197  https://www.airbnb.com/rooms/23197   \n",
       "4  25786  https://www.airbnb.com/rooms/25786   \n",
       "\n",
       "                                              name  \\\n",
       "0                          Flat with Sunny Terrace   \n",
       "1  Huge flat for 8 people close to Sagrada Familia   \n",
       "2                        Nice and sunny duble room   \n",
       "3     FORUM DELUXE 5 MINS WALK  CCIB CENTER & SEA!   \n",
       "4       NICE ROOM AVAILABLE IN THE HEART OF GRACIA   \n",
       "\n",
       "                                             summary  \\\n",
       "0  Apartment located near the \"Plaza de las Glori...   \n",
       "1  110m2 apartment to rent in Barcelona. Located ...   \n",
       "2  The flat is in Poblenou district, and the room...   \n",
       "3  I do not accept groups of young people under 2...   \n",
       "4  JUST GO THROUGH THE MANY REVIEWS I GOT THROUGH...   \n",
       "\n",
       "                                               space  \\\n",
       "0  Nice apartment situated on the penthouse floor...   \n",
       "1  Apartment with 110 m2 located in the 6th floor...   \n",
       "2  L'apartament està al barri de Poblenou, i l'ha...   \n",
       "3  Elegant spacious apartment suitable for 6. Amp...   \n",
       "4  Room available for rent.-  PEDRO PEREZ.  Share...   \n",
       "\n",
       "                                         description                 city  \\\n",
       "0  Apartment located near the \"Plaza de las Glori...            Barcelona   \n",
       "1  110m2 apartment to rent in Barcelona. Located ...            Barcelona   \n",
       "2  The flat is in Poblenou district, and the room...            Barcelona   \n",
       "3  I do not accept groups of young people under 2...  Sant Adria de Besos   \n",
       "4  JUST GO THROUGH THE MANY REVIEWS I GOT THROUGH...            Barcelona   \n",
       "\n",
       "   latitude  longitude        room_type    price  number_of_reviews  \\\n",
       "0  41.40889    2.18555  Entire home/apt  $130.00                  1   \n",
       "1  41.40420    2.17306  Entire home/apt   $60.00                 15   \n",
       "2  41.40560    2.19821     Private room   $33.00                119   \n",
       "3  41.41203    2.22114  Entire home/apt  $210.00                 45   \n",
       "4  41.40145    2.15645     Private room   $45.00                241   \n",
       "\n",
       "   reviews_per_month  prices  \n",
       "0               0.02   130.0  \n",
       "1               0.20    60.0  \n",
       "2               3.08    33.0  \n",
       "3               0.44   210.0  \n",
       "4               2.22    45.0  "
      ]
     },
     "execution_count": 39,
     "metadata": {},
     "output_type": "execute_result"
    }
   ],
   "source": [
    "data_bcn_bis.head()"
   ]
  },
  {
   "attachments": {},
   "cell_type": "markdown",
   "id": "74deed4d",
   "metadata": {},
   "source": [
    "#### now lets remove the old price column "
   ]
  },
  {
   "cell_type": "code",
   "execution_count": 40,
   "id": "43a80995",
   "metadata": {},
   "outputs": [],
   "source": [
    "del data_bcn_bis[\"price\"]"
   ]
  },
  {
   "attachments": {},
   "cell_type": "markdown",
   "id": "4336fc0b",
   "metadata": {},
   "source": [
    "#### now we have a clean dataset "
   ]
  },
  {
   "cell_type": "code",
   "execution_count": 41,
   "id": "ce34559b",
   "metadata": {},
   "outputs": [
    {
     "data": {
      "text/html": [
       "<div>\n",
       "<style scoped>\n",
       "    .dataframe tbody tr th:only-of-type {\n",
       "        vertical-align: middle;\n",
       "    }\n",
       "\n",
       "    .dataframe tbody tr th {\n",
       "        vertical-align: top;\n",
       "    }\n",
       "\n",
       "    .dataframe thead th {\n",
       "        text-align: right;\n",
       "    }\n",
       "</style>\n",
       "<table border=\"1\" class=\"dataframe\">\n",
       "  <thead>\n",
       "    <tr style=\"text-align: right;\">\n",
       "      <th></th>\n",
       "      <th>id</th>\n",
       "      <th>listing_url</th>\n",
       "      <th>name</th>\n",
       "      <th>summary</th>\n",
       "      <th>space</th>\n",
       "      <th>description</th>\n",
       "      <th>city</th>\n",
       "      <th>latitude</th>\n",
       "      <th>longitude</th>\n",
       "      <th>room_type</th>\n",
       "      <th>number_of_reviews</th>\n",
       "      <th>reviews_per_month</th>\n",
       "      <th>prices</th>\n",
       "    </tr>\n",
       "  </thead>\n",
       "  <tbody>\n",
       "    <tr>\n",
       "      <th>0</th>\n",
       "      <td>18666</td>\n",
       "      <td>https://www.airbnb.com/rooms/18666</td>\n",
       "      <td>Flat with Sunny Terrace</td>\n",
       "      <td>Apartment located near the \"Plaza de las Glori...</td>\n",
       "      <td>Nice apartment situated on the penthouse floor...</td>\n",
       "      <td>Apartment located near the \"Plaza de las Glori...</td>\n",
       "      <td>Barcelona</td>\n",
       "      <td>41.40889</td>\n",
       "      <td>2.18555</td>\n",
       "      <td>Entire home/apt</td>\n",
       "      <td>1</td>\n",
       "      <td>0.02</td>\n",
       "      <td>130.0</td>\n",
       "    </tr>\n",
       "    <tr>\n",
       "      <th>1</th>\n",
       "      <td>18674</td>\n",
       "      <td>https://www.airbnb.com/rooms/18674</td>\n",
       "      <td>Huge flat for 8 people close to Sagrada Familia</td>\n",
       "      <td>110m2 apartment to rent in Barcelona. Located ...</td>\n",
       "      <td>Apartment with 110 m2 located in the 6th floor...</td>\n",
       "      <td>110m2 apartment to rent in Barcelona. Located ...</td>\n",
       "      <td>Barcelona</td>\n",
       "      <td>41.40420</td>\n",
       "      <td>2.17306</td>\n",
       "      <td>Entire home/apt</td>\n",
       "      <td>15</td>\n",
       "      <td>0.20</td>\n",
       "      <td>60.0</td>\n",
       "    </tr>\n",
       "    <tr>\n",
       "      <th>2</th>\n",
       "      <td>21605</td>\n",
       "      <td>https://www.airbnb.com/rooms/21605</td>\n",
       "      <td>Nice and sunny duble room</td>\n",
       "      <td>The flat is in Poblenou district, and the room...</td>\n",
       "      <td>L'apartament està al barri de Poblenou, i l'ha...</td>\n",
       "      <td>The flat is in Poblenou district, and the room...</td>\n",
       "      <td>Barcelona</td>\n",
       "      <td>41.40560</td>\n",
       "      <td>2.19821</td>\n",
       "      <td>Private room</td>\n",
       "      <td>119</td>\n",
       "      <td>3.08</td>\n",
       "      <td>33.0</td>\n",
       "    </tr>\n",
       "    <tr>\n",
       "      <th>3</th>\n",
       "      <td>23197</td>\n",
       "      <td>https://www.airbnb.com/rooms/23197</td>\n",
       "      <td>FORUM DELUXE 5 MINS WALK  CCIB CENTER &amp; SEA!</td>\n",
       "      <td>I do not accept groups of young people under 2...</td>\n",
       "      <td>Elegant spacious apartment suitable for 6. Amp...</td>\n",
       "      <td>I do not accept groups of young people under 2...</td>\n",
       "      <td>Sant Adria de Besos</td>\n",
       "      <td>41.41203</td>\n",
       "      <td>2.22114</td>\n",
       "      <td>Entire home/apt</td>\n",
       "      <td>45</td>\n",
       "      <td>0.44</td>\n",
       "      <td>210.0</td>\n",
       "    </tr>\n",
       "    <tr>\n",
       "      <th>4</th>\n",
       "      <td>25786</td>\n",
       "      <td>https://www.airbnb.com/rooms/25786</td>\n",
       "      <td>NICE ROOM AVAILABLE IN THE HEART OF GRACIA</td>\n",
       "      <td>JUST GO THROUGH THE MANY REVIEWS I GOT THROUGH...</td>\n",
       "      <td>Room available for rent.-  PEDRO PEREZ.  Share...</td>\n",
       "      <td>JUST GO THROUGH THE MANY REVIEWS I GOT THROUGH...</td>\n",
       "      <td>Barcelona</td>\n",
       "      <td>41.40145</td>\n",
       "      <td>2.15645</td>\n",
       "      <td>Private room</td>\n",
       "      <td>241</td>\n",
       "      <td>2.22</td>\n",
       "      <td>45.0</td>\n",
       "    </tr>\n",
       "  </tbody>\n",
       "</table>\n",
       "</div>"
      ],
      "text/plain": [
       "      id                         listing_url  \\\n",
       "0  18666  https://www.airbnb.com/rooms/18666   \n",
       "1  18674  https://www.airbnb.com/rooms/18674   \n",
       "2  21605  https://www.airbnb.com/rooms/21605   \n",
       "3  23197  https://www.airbnb.com/rooms/23197   \n",
       "4  25786  https://www.airbnb.com/rooms/25786   \n",
       "\n",
       "                                              name  \\\n",
       "0                          Flat with Sunny Terrace   \n",
       "1  Huge flat for 8 people close to Sagrada Familia   \n",
       "2                        Nice and sunny duble room   \n",
       "3     FORUM DELUXE 5 MINS WALK  CCIB CENTER & SEA!   \n",
       "4       NICE ROOM AVAILABLE IN THE HEART OF GRACIA   \n",
       "\n",
       "                                             summary  \\\n",
       "0  Apartment located near the \"Plaza de las Glori...   \n",
       "1  110m2 apartment to rent in Barcelona. Located ...   \n",
       "2  The flat is in Poblenou district, and the room...   \n",
       "3  I do not accept groups of young people under 2...   \n",
       "4  JUST GO THROUGH THE MANY REVIEWS I GOT THROUGH...   \n",
       "\n",
       "                                               space  \\\n",
       "0  Nice apartment situated on the penthouse floor...   \n",
       "1  Apartment with 110 m2 located in the 6th floor...   \n",
       "2  L'apartament està al barri de Poblenou, i l'ha...   \n",
       "3  Elegant spacious apartment suitable for 6. Amp...   \n",
       "4  Room available for rent.-  PEDRO PEREZ.  Share...   \n",
       "\n",
       "                                         description                 city  \\\n",
       "0  Apartment located near the \"Plaza de las Glori...            Barcelona   \n",
       "1  110m2 apartment to rent in Barcelona. Located ...            Barcelona   \n",
       "2  The flat is in Poblenou district, and the room...            Barcelona   \n",
       "3  I do not accept groups of young people under 2...  Sant Adria de Besos   \n",
       "4  JUST GO THROUGH THE MANY REVIEWS I GOT THROUGH...            Barcelona   \n",
       "\n",
       "   latitude  longitude        room_type  number_of_reviews  reviews_per_month  \\\n",
       "0  41.40889    2.18555  Entire home/apt                  1               0.02   \n",
       "1  41.40420    2.17306  Entire home/apt                 15               0.20   \n",
       "2  41.40560    2.19821     Private room                119               3.08   \n",
       "3  41.41203    2.22114  Entire home/apt                 45               0.44   \n",
       "4  41.40145    2.15645     Private room                241               2.22   \n",
       "\n",
       "   prices  \n",
       "0   130.0  \n",
       "1    60.0  \n",
       "2    33.0  \n",
       "3   210.0  \n",
       "4    45.0  "
      ]
     },
     "execution_count": 41,
     "metadata": {},
     "output_type": "execute_result"
    }
   ],
   "source": [
    "data_bcn_bis.head()"
   ]
  },
  {
   "cell_type": "markdown",
   "id": "fd88c20e",
   "metadata": {},
   "source": [
    "## Start the analysis \n",
    "\n",
    "## Goal: see the appartments i can rent for my holiday "
   ]
  },
  {
   "attachments": {},
   "cell_type": "markdown",
   "id": "b7c2c69e",
   "metadata": {},
   "source": [
    "#### lets find the appartments i can rent this summer in Barcelona \n",
    "#### my max budget is 60 euros per night "
   ]
  },
  {
   "cell_type": "code",
   "execution_count": 42,
   "id": "7bf266c5",
   "metadata": {},
   "outputs": [
    {
     "data": {
      "text/plain": [
       "0        False\n",
       "1        False\n",
       "2         True\n",
       "3        False\n",
       "4         True\n",
       "         ...  \n",
       "19828     True\n",
       "19829     True\n",
       "19830     True\n",
       "19831    False\n",
       "19832    False\n",
       "Name: prices, Length: 19833, dtype: bool"
      ]
     },
     "execution_count": 42,
     "metadata": {},
     "output_type": "execute_result"
    }
   ],
   "source": [
    "#boolean masking\n",
    "affordable = data_bcn_bis[\"prices\"] < 60\n",
    "affordable"
   ]
  },
  {
   "attachments": {},
   "cell_type": "markdown",
   "id": "9f3700cb",
   "metadata": {},
   "source": [
    "#### the appartments i can rent"
   ]
  },
  {
   "cell_type": "code",
   "execution_count": 43,
   "id": "1fe02524",
   "metadata": {},
   "outputs": [
    {
     "data": {
      "text/html": [
       "<div>\n",
       "<style scoped>\n",
       "    .dataframe tbody tr th:only-of-type {\n",
       "        vertical-align: middle;\n",
       "    }\n",
       "\n",
       "    .dataframe tbody tr th {\n",
       "        vertical-align: top;\n",
       "    }\n",
       "\n",
       "    .dataframe thead th {\n",
       "        text-align: right;\n",
       "    }\n",
       "</style>\n",
       "<table border=\"1\" class=\"dataframe\">\n",
       "  <thead>\n",
       "    <tr style=\"text-align: right;\">\n",
       "      <th></th>\n",
       "      <th>listing_url</th>\n",
       "      <th>name</th>\n",
       "      <th>summary</th>\n",
       "      <th>prices</th>\n",
       "    </tr>\n",
       "  </thead>\n",
       "  <tbody>\n",
       "    <tr>\n",
       "      <th>2</th>\n",
       "      <td>https://www.airbnb.com/rooms/21605</td>\n",
       "      <td>Nice and sunny duble room</td>\n",
       "      <td>The flat is in Poblenou district, and the room...</td>\n",
       "      <td>33.0</td>\n",
       "    </tr>\n",
       "    <tr>\n",
       "      <th>4</th>\n",
       "      <td>https://www.airbnb.com/rooms/25786</td>\n",
       "      <td>NICE ROOM AVAILABLE IN THE HEART OF GRACIA</td>\n",
       "      <td>JUST GO THROUGH THE MANY REVIEWS I GOT THROUGH...</td>\n",
       "      <td>45.0</td>\n",
       "    </tr>\n",
       "    <tr>\n",
       "      <th>5</th>\n",
       "      <td>https://www.airbnb.com/rooms/31377</td>\n",
       "      <td>Room for 2,  Sagrada Famili</td>\n",
       "      <td>The room in 500 m from Sagrada Familia. 3 bran...</td>\n",
       "      <td>42.0</td>\n",
       "    </tr>\n",
       "    <tr>\n",
       "      <th>6</th>\n",
       "      <td>https://www.airbnb.com/rooms/31380</td>\n",
       "      <td>Room for 2-3. Barcelona, Sagrada Famili</td>\n",
       "      <td>Room for 2-3.  Great location, right next to S...</td>\n",
       "      <td>53.0</td>\n",
       "    </tr>\n",
       "    <tr>\n",
       "      <th>9</th>\n",
       "      <td>https://www.airbnb.com/rooms/32615</td>\n",
       "      <td>Sunny room, top floor with 2 terraces!</td>\n",
       "      <td>Cozy apartment in a quiet area, with 2 fantast...</td>\n",
       "      <td>30.0</td>\n",
       "    </tr>\n",
       "    <tr>\n",
       "      <th>...</th>\n",
       "      <td>...</td>\n",
       "      <td>...</td>\n",
       "      <td>...</td>\n",
       "      <td>...</td>\n",
       "    </tr>\n",
       "    <tr>\n",
       "      <th>19826</th>\n",
       "      <td>https://www.airbnb.com/rooms/36573621</td>\n",
       "      <td>Chambre double (Apt avec terrasse centre ville)</td>\n",
       "      <td>L'appartement est situé dans le haut du Raval ...</td>\n",
       "      <td>29.0</td>\n",
       "    </tr>\n",
       "    <tr>\n",
       "      <th>19827</th>\n",
       "      <td>https://www.airbnb.com/rooms/36575263</td>\n",
       "      <td>Confort en el corazón de Barcelona</td>\n",
       "      <td>Piso compartido con dos amigos encantadores! E...</td>\n",
       "      <td>30.0</td>\n",
       "    </tr>\n",
       "    <tr>\n",
       "      <th>19828</th>\n",
       "      <td>https://www.airbnb.com/rooms/36575390</td>\n",
       "      <td>Habitación privada, n° 1bis, Barcelona.</td>\n",
       "      <td></td>\n",
       "      <td>16.0</td>\n",
       "    </tr>\n",
       "    <tr>\n",
       "      <th>19829</th>\n",
       "      <td>https://www.airbnb.com/rooms/36579000</td>\n",
       "      <td>Sunny room for two close to beach</td>\n",
       "      <td>Sunny room for two close to beach</td>\n",
       "      <td>30.0</td>\n",
       "    </tr>\n",
       "    <tr>\n",
       "      <th>19830</th>\n",
       "      <td>https://www.airbnb.com/rooms/36580710</td>\n",
       "      <td>Luminosa habitación y perfecta locación</td>\n",
       "      <td></td>\n",
       "      <td>55.0</td>\n",
       "    </tr>\n",
       "  </tbody>\n",
       "</table>\n",
       "<p>8997 rows × 4 columns</p>\n",
       "</div>"
      ],
      "text/plain": [
       "                                 listing_url  \\\n",
       "2         https://www.airbnb.com/rooms/21605   \n",
       "4         https://www.airbnb.com/rooms/25786   \n",
       "5         https://www.airbnb.com/rooms/31377   \n",
       "6         https://www.airbnb.com/rooms/31380   \n",
       "9         https://www.airbnb.com/rooms/32615   \n",
       "...                                      ...   \n",
       "19826  https://www.airbnb.com/rooms/36573621   \n",
       "19827  https://www.airbnb.com/rooms/36575263   \n",
       "19828  https://www.airbnb.com/rooms/36575390   \n",
       "19829  https://www.airbnb.com/rooms/36579000   \n",
       "19830  https://www.airbnb.com/rooms/36580710   \n",
       "\n",
       "                                                  name  \\\n",
       "2                            Nice and sunny duble room   \n",
       "4           NICE ROOM AVAILABLE IN THE HEART OF GRACIA   \n",
       "5                          Room for 2,  Sagrada Famili   \n",
       "6              Room for 2-3. Barcelona, Sagrada Famili   \n",
       "9               Sunny room, top floor with 2 terraces!   \n",
       "...                                                ...   \n",
       "19826  Chambre double (Apt avec terrasse centre ville)   \n",
       "19827               Confort en el corazón de Barcelona   \n",
       "19828          Habitación privada, n° 1bis, Barcelona.   \n",
       "19829                Sunny room for two close to beach   \n",
       "19830          Luminosa habitación y perfecta locación   \n",
       "\n",
       "                                                 summary  prices  \n",
       "2      The flat is in Poblenou district, and the room...    33.0  \n",
       "4      JUST GO THROUGH THE MANY REVIEWS I GOT THROUGH...    45.0  \n",
       "5      The room in 500 m from Sagrada Familia. 3 bran...    42.0  \n",
       "6      Room for 2-3.  Great location, right next to S...    53.0  \n",
       "9      Cozy apartment in a quiet area, with 2 fantast...    30.0  \n",
       "...                                                  ...     ...  \n",
       "19826  L'appartement est situé dans le haut du Raval ...    29.0  \n",
       "19827  Piso compartido con dos amigos encantadores! E...    30.0  \n",
       "19828                                                       16.0  \n",
       "19829                  Sunny room for two close to beach    30.0  \n",
       "19830                                                       55.0  \n",
       "\n",
       "[8997 rows x 4 columns]"
      ]
     },
     "execution_count": 43,
     "metadata": {},
     "output_type": "execute_result"
    }
   ],
   "source": [
    "inmyBudget = data_bcn_bis[affordable]\n",
    "inmyBudget[[\"listing_url\", \"name\", \"summary\", \"prices\"]]"
   ]
  },
  {
   "attachments": {},
   "cell_type": "markdown",
   "id": "8f2d6436",
   "metadata": {},
   "source": [
    "#### disribution of airbnb prices accross bcn using seaborn"
   ]
  },
  {
   "cell_type": "code",
   "execution_count": 44,
   "id": "a1a1612a",
   "metadata": {},
   "outputs": [
    {
     "data": {
      "text/plain": [
       "Text(0.5, 0.98, 'Distribution of prices of my rentable Airbnbs in BCN')"
      ]
     },
     "execution_count": 44,
     "metadata": {},
     "output_type": "execute_result"
    },
    {
     "data": {
      "image/png": "[encoded data removed]",
      "text/plain": [
       "<Figure size 500x500 with 1 Axes>"
      ]
     },
     "metadata": {},
     "output_type": "display_data"
    }
   ],
   "source": [
    "prices_distrib_inmyBudget = sns.displot(data = inmyBudget, x = 'prices')\n",
    "prices_distrib_inmyBudget.fig.suptitle('Distribution of prices of my rentable Airbnbs in BCN')"
   ]
  },
  {
   "attachments": {},
   "cell_type": "markdown",
   "id": "d9076398",
   "metadata": {},
   "source": [
    "## Stats:"
   ]
  },
  {
   "attachments": {},
   "cell_type": "markdown",
   "id": "53a08c29",
   "metadata": {},
   "source": [
    "#### mean price of the airbnbs in barcelona \n"
   ]
  },
  {
   "cell_type": "code",
   "execution_count": 45,
   "id": "f1c01f55",
   "metadata": {},
   "outputs": [
    {
     "name": "stdout",
     "output_type": "stream",
     "text": [
      "an airbnb in barcelona costs on average : 129.0787576261786$\n"
     ]
    }
   ],
   "source": [
    "mean_price = data_bcn_bis[\"prices\"].mean()\n",
    "print('an airbnb in barcelona costs on average : ' + str(mean_price) + '$')\n",
    "\n"
   ]
  },
  {
   "attachments": {},
   "cell_type": "markdown",
   "id": "5aa416f7",
   "metadata": {},
   "source": [
    "#### lets see how much is the spread around the mean price in BCN \n"
   ]
  },
  {
   "cell_type": "code",
   "execution_count": 46,
   "id": "b622abe2",
   "metadata": {},
   "outputs": [
    {
     "name": "stdout",
     "output_type": "stream",
     "text": [
      "the spread of the prices of the airbnbs in BCN around the mean is 421.9845040889969$\n"
     ]
    }
   ],
   "source": [
    "spread_price = data_bcn_bis[\"prices\"].std()\n",
    "print('the spread of the prices of the airbnbs in BCN around the mean is ' + str(spread_price) + '$')\n",
    "\n"
   ]
  },
  {
   "attachments": {},
   "cell_type": "markdown",
   "id": "9b1fa359",
   "metadata": {},
   "source": [
    "#### this is too high for me! lets study airbnbs i can afford \n"
   ]
  },
  {
   "cell_type": "code",
   "execution_count": 47,
   "id": "8992298f",
   "metadata": {},
   "outputs": [
    {
     "name": "stdout",
     "output_type": "stream",
     "text": [
      "an airbnb i can afford in barcelona costs on average : 37.352450816938976$\n",
      "the spread of the prices of the airbnbs i can afford in BCN around the mean is 11.777842892446118$\n"
     ]
    }
   ],
   "source": [
    "mean_price_inmyBudget = inmyBudget[\"prices\"].mean()\n",
    "\n",
    "spread_price_inmyBudget = inmyBudget[\"prices\"].std()\n",
    "\n",
    "print('an airbnb i can afford in barcelona costs on average : ' + str(mean_price_inmyBudget) + '$')\n",
    "\n",
    "print('the spread of the prices of the airbnbs i can afford in BCN around the mean is ' + str(spread_price_inmyBudget) + '$')\n",
    "\n",
    "\n",
    "\n",
    "\n"
   ]
  },
  {
   "attachments": {},
   "cell_type": "markdown",
   "id": "0a294154",
   "metadata": {},
   "source": [
    "## Visualize my rentable airbnbs: "
   ]
  },
  {
   "attachments": {},
   "cell_type": "markdown",
   "id": "99ffa025",
   "metadata": {},
   "source": [
    "#### Where are my rentable airbnbs located ? "
   ]
  },
  {
   "cell_type": "code",
   "execution_count": 48,
   "id": "cbc86abd",
   "metadata": {},
   "outputs": [
    {
     "data": {
      "text/plain": [
       "<AxesSubplot:title={'center':'Airbnb prices across barcelona'}, xlabel='longitude', ylabel='latitude'>"
      ]
     },
     "execution_count": 48,
     "metadata": {},
     "output_type": "execute_result"
    }
   ],
   "source": [
    "inmyBudget.plot(title = 'Airbnb prices across barcelona' , kind = \"scatter\", x = \"longitude\", y = \"latitude\", xticks=[], yticks=[], figsize=(12,8),\n",
    "                           c = \"prices\",\n",
    "                           cmap = \"inferno\",\n",
    "                           alpha = 0.9,\n",
    "                           colorbar=True)"
   ]
  },
  {
   "attachments": {},
   "cell_type": "markdown",
   "id": "18825893",
   "metadata": {},
   "source": [
    "#### lets plot that on a barcelona map to see it better \n"
   ]
  },
  {
   "cell_type": "code",
   "execution_count": 49,
   "id": "774b2d50",
   "metadata": {},
   "outputs": [
    {
     "data": {
      "text/plain": [
       "<AxesSubplot:title={'center':'Appartments i can rent in Barcelona'}, xlabel='longitude', ylabel='latitude'>"
      ]
     },
     "execution_count": 49,
     "metadata": {},
     "output_type": "execute_result"
    }
   ],
   "source": [
    "background_image = plt.imread('mapa_bcn.png')\n",
    "#show the map with a gray color \n",
    "plt.imshow(background_image, zorder=0, extent=[2.05, 2.24, 41.30, 41.50], cmap = \"gray\")\n",
    "\n",
    "#?\n",
    "ax = plt.gca()\n",
    "\n",
    "#plot the point (dont forget the ax)\n",
    "inmyBudget.plot(title=\"Appartments i can rent in Barcelona\", \n",
    "                            kind = \"scatter\", \n",
    "                            ax=ax,\n",
    "                            ylim=[41.30, 41.50], \n",
    "                            xlim=[2.05, 2.24],\n",
    "                            x = \"longitude\",\n",
    "                            y = \"latitude\",\n",
    "                            figsize = (12,8),\n",
    "                            c = \"prices\",\n",
    "                            cmap = \"inferno\",\n",
    "                            alpha = 0.9,\n",
    "                            colorbar = True\n",
    "                        )"
   ]
  },
  {
   "attachments": {},
   "cell_type": "markdown",
   "id": "748b8a31",
   "metadata": {},
   "source": [
    "#### Now i have an idea of the money i need for my next holidays !\n",
    "\n",
    "### End "
   ]
  }
 ],
 "metadata": {
  "kernelspec": {
   "display_name": "Python 3 (ipykernel)",
   "language": "python",
   "name": "python3"
  },
  "language_info": {
   "codemirror_mode": {
    "name": "ipython",
    "version": 3
   },
   "file_extension": ".py",
   "mimetype": "text/x-python",
   "name": "python",
   "nbconvert_exporter": "python",
   "pygments_lexer": "ipython3",
   "version": "3.9.13"
  }
 },
 "nbformat": 4,
 "nbformat_minor": 5
}
